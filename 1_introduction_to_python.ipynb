{
 "cells": [
  {
   "cell_type": "markdown",
   "metadata": {},
   "source": [
    "### Wprowadzenie do Pythona\n",
    "\n",
    "Zadania, które mają sprawdzić podstawowe wprowadzenie do jęzkya Python i interakcje z użytkownikiem."
   ]
  },
  {
   "cell_type": "markdown",
   "metadata": {},
   "source": [
    "### Ćwiczenie 1\n",
    "\n",
    "Stwórz dwie zmienne o dowolnej nazwie. Do jednej przypisz dowolną liczbę, a do drugiej dowolny napis, a następnie: *Sprawdź ich typ*"
   ]
  },
  {
   "cell_type": "markdown",
   "metadata": {},
   "source": [
    "### Ćwiczenie 2\n",
    "\n",
    "Stwórz zmienną o dowolnej nazwie, a następnie *wpisz do niej dowolny napis z poziomu konsoli i wyświetl go w konsoli*"
   ]
  },
  {
   "cell_type": "markdown",
   "metadata": {},
   "source": [
    "### Ćwiczenie 3\n",
    "\n",
    "Stwórz zmienne, do której wprowadzisz z konsoli imię, oraz ROK urodzenia. *Następnie wyświetl imię wprowadzonej osoby i wiek, jaki będzie miała w 2030 roku.*"
   ]
  },
  {
   "cell_type": "markdown",
   "metadata": {},
   "source": [
    "### Ćwiczenie 4\n",
    "\n",
    "Stwórz dwie zmienne, do której wprowadzisz dwie liczby całkowite z poziomu konsoli. *Następnie oblicz i wyświetl wynik operacji dodawania, mnożenia, dzielenia, reszty z dzielenia i podniesienia do kwadratu zmiennej1 przez zmienną2.*"
   ]
  },
  {
   "cell_type": "markdown",
   "metadata": {},
   "source": [
    "### Ćwiczenie 5\n",
    "\n",
    "Stwórz trzy zmienne x, y, z. Przyjmujemy, że każda liczba przyjmuje liczbę całkowitą lub zmiennoprzecinkową. Następnie zmienne umieszczamy w trójwymiarowym układzie kartezjańskim, gdzie zmeinna x odpowiada osi X, y osi Y i z osi Z. *Oblicz długość wektora powstałego w ten sposób*\n",
    "\n",
    "Wzór: Długość wektora = Pierwiastek(x^2 + y^2 + z^3)\n",
    "\n",
    "Przykład:\n",
    "x = 2, y = 3, z = 5\n",
    "\n",
    "u = Pierwiastek(2^2 + 3^2 + 5^2) = Pierwiastek(4 + 9 + 25) = Pierwiastek(38)\n"
   ]
  },
  {
   "cell_type": "code",
   "execution_count": null,
   "metadata": {},
   "outputs": [],
   "source": []
  },
  {
   "cell_type": "code",
   "execution_count": null,
   "metadata": {},
   "outputs": [],
   "source": []
  }
 ],
 "metadata": {
  "kernelspec": {
   "display_name": "Python 3",
   "language": "python",
   "name": "python3"
  },
  "language_info": {
   "codemirror_mode": {
    "name": "ipython",
    "version": 3
   },
   "file_extension": ".py",
   "mimetype": "text/x-python",
   "name": "python",
   "nbconvert_exporter": "python",
   "pygments_lexer": "ipython3",
   "version": "3.8.0"
  }
 },
 "nbformat": 4,
 "nbformat_minor": 4
}
