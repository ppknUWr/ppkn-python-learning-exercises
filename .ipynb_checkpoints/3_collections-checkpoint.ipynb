{
 "cells": [
  {
   "cell_type": "markdown",
   "metadata": {},
   "source": [
    "### Kolekcje\n",
    "\n",
    "Zadania, które mają sprawdzić rozumienie podstawowych kolekcji w Pythonie i różnicę między nimi. **Dict**, **List** i **Tuple**"
   ]
  },
  {
   "cell_type": "markdown",
   "metadata": {},
   "source": [
    "### Ćwiczenie 1\n",
    "\n",
    "Stwórz program, który generuje 100 liczb od 0 do 99, a następnie wpisuje je do listy i wyświetla środkowy element. \n",
    "\n",
    "Przykład:\n",
    "\n",
    "Dla liczb od 0 do 99 wynikiem powinno być 50"
   ]
  },
  {
   "cell_type": "markdown",
   "metadata": {},
   "source": [
    "### Ćwiczenie 2\n",
    "\n",
    "Stwórz program, który wczytuje od użytkownika liczbę. Program ma również posiadać listę, która zawiera w sobie 10 elementów. Liczby od 0 do 9, a następnie sprawdza, czy dana liczba istnieje w liście. Jeżeli tak, to wyświetla **indeks** tej liczby w konsoli. Jeżeli nie, to wyświetla komunikat \"Nie ma takiej liczby w liście\""
   ]
  },
  {
   "cell_type": "markdown",
   "metadata": {},
   "source": [
    "### Ćwiczenie 3\n",
    "\n",
    "Stwórz program, który wczytuje od użytkownika liczbę, a następnie pozwala wypełnić listę taką ilością LICZB, jaką użytkownik sobie zażyczył. Następnie każdy element w liście podnosi do potęgi i wyświetla tylko jeden początkowy element i jeden końcowy element listy.\n",
    "\n",
    "Przykładowo, dla wprowadzonej liczby 5 program pozwoli użytkownikowi wprowadzić pięć liczb do listy, a następnie je podniesie do potęgi."
   ]
  },
  {
   "cell_type": "markdown",
   "metadata": {},
   "source": [
    "### Ćwiczenie 4\n",
    "\n",
    "Stwórz program, który ma zadaną krotkę (tuple) z liczbami (1, 4, 10, 15), a następnie dla podanej krotki tworzy jedną liczbę. W tym przypadku będzie to 141015."
   ]
  },
  {
   "cell_type": "markdown",
   "metadata": {},
   "source": [
    "### Ćwiczenie 5\n",
    "\n",
    "Stwórz program, który ma zdaną krotkę z liczbami (100, 200, 856, 10), a następnie sprawdzi, czy jej długość jest liczbą parzystą."
   ]
  },
  {
   "cell_type": "markdown",
   "metadata": {},
   "source": [
    "### Ćwiczenie 6\n",
    "\n",
    "Stwórz program, który wczytuje od użytkownika napis, a następnie konwertuje go na krotkę.\n",
    "\n",
    "Przykład:\n",
    "\n",
    "Dla napisu \"apple\", wynikiem powinno być ('a', 'p', 'p', 'l', 'e')"
   ]
  },
  {
   "cell_type": "markdown",
   "metadata": {},
   "source": [
    "### Ćwiczenie 7\n",
    "\n",
    "Stwórz program, który ma zdefiniowane dwie listy:\n",
    "\n",
    "miasta = [\"Wroclaw\", \"Poznan\", \"Warszawa\"],\n",
    "dzielnice = [\"Nadodrze\", \"Centrum\", \"Mokotow\"].\n",
    "\n",
    "Dla tak zadanych list tworzony jest słownik, który za **klucz** przyjmuje miasto, a za **wartość** przyjmuje dzielnice. Wynikiem powinnien być słownik:\n",
    "\n",
    "result = {\"Wroclaw\": \"Nadodrze\", \"Poznan\": \"Centrum\", \"Warszawa\", \"Mokotow\"}"
   ]
  },
  {
   "cell_type": "markdown",
   "metadata": {},
   "source": [
    "### Ćwiczenie 8\n",
    "\n",
    "Stwórz program, który ma zdefiniowany słownik\n",
    "\n",
    "imiona = {\"imiona\": [\"Janek\", \"Marek\", \"Asia\", \"Aleksander\"]}\n",
    "\n",
    "A następnie sprawdza, czy we wartościach słownika występuje imie wprowadzone przez użytkownika w konsoli."
   ]
  },
  {
   "cell_type": "markdown",
   "metadata": {},
   "source": [
    "### Ćwiczenie 9\n",
    "\n",
    "Stwórz program, który ma zdefiniowany słownik:\n",
    "\n",
    "daty = {\"Poniedzialek\": 1, \"Wtorek\": 2, \"Sroda\": 3, \"Czwartek\": 4, \"Piatek\": 5, \"Sobota\": 6, \"Niedziela\": 7}\n",
    "\n",
    "I dla tak podanego słownika następuje iteracja po jego kluczu i wartościach i wyświetlenie komunikatów:\n",
    "\n",
    "\"Numer dnia 1, dzien: Poniedzialek\"\n",
    "\"Numer dnia 2, dzien: Wtorek\"\n",
    "...\n",
    "\"Numer dnia 7, dzien: Niedziela\""
   ]
  }
 ],
 "metadata": {
  "kernelspec": {
   "display_name": "Python 3",
   "language": "python",
   "name": "python3"
  },
  "language_info": {
   "codemirror_mode": {
    "name": "ipython",
    "version": 3
   },
   "file_extension": ".py",
   "mimetype": "text/x-python",
   "name": "python",
   "nbconvert_exporter": "python",
   "pygments_lexer": "ipython3",
   "version": "3.8.0"
  }
 },
 "nbformat": 4,
 "nbformat_minor": 4
}
