{
 "cells": [
  {
   "cell_type": "markdown",
   "metadata": {},
   "source": [
    "### Przykładowe rozwiązania problemów z Notebooka \"2_if_and_for\""
   ]
  },
  {
   "cell_type": "code",
   "execution_count": null,
   "metadata": {},
   "outputs": [],
   "source": [
    "# Ćwiczenie 1\n",
    "\n",
    "a = int(input(\"Wprowadz bok dlugosci a: \"))\n",
    "b = int(input(\"Wprowadz bok dlugosci b: \"))\n",
    "c = int(input(\"Wprowadz bok dlugosci c: \"))\n",
    "\n",
    "if (a + b <= c) or (a + c <= b) or (b + c <= a) : \n",
    "    print(\"Nie mozna stworzyc trojkata\")\n",
    "else:\n",
    "    print(\"Mozna stworzyc trojkat\")"
   ]
  },
  {
   "cell_type": "code",
   "execution_count": null,
   "metadata": {},
   "outputs": [],
   "source": [
    "# Ćwiczenie 2\n",
    "\n",
    "rok = int(input(\"Wprowadz rok: \"))\n",
    "\n",
    "if rok % 4 == 0 and (rok % 100 != 0 or rok % 400 == 0):\n",
    "    print(\"Rok przystepny\")\n",
    "else:\n",
    "    print(\"Rok nieprzystepny\")"
   ]
  },
  {
   "cell_type": "code",
   "execution_count": null,
   "metadata": {},
   "outputs": [],
   "source": [
    "# Ćwiczenie 3\n",
    "\n",
    "n = int(input(\"Wprowadz liczbe: \"))\n",
    "\n",
    "if n % 15 == 0:\n",
    "    print(\"FizzBuzz\")\n",
    "elif n % 5 == 0:\n",
    "    print(\"Buzz\")\n",
    "elif n % 3 == 0:\n",
    "    print(\"Fizz\")"
   ]
  },
  {
   "cell_type": "code",
   "execution_count": null,
   "metadata": {},
   "outputs": [],
   "source": [
    "# Ćwiczenie 4\n",
    "\n",
    "n = int(input(\"Wprowadz liczbe: \"))\n",
    "\n",
    "for i in range(n):\n",
    "    print(i+1)"
   ]
  },
  {
   "cell_type": "code",
   "execution_count": null,
   "metadata": {},
   "outputs": [],
   "source": [
    "# Ćwiczenie 5\n",
    "\n",
    "n = int(input(\"Wprowadz liczbe: \"))\n",
    "suma = 0\n",
    "\n",
    "for i in range(n):\n",
    "    suma += i+1\n",
    "    \n",
    "print(suma)"
   ]
  },
  {
   "cell_type": "code",
   "execution_count": null,
   "metadata": {},
   "outputs": [],
   "source": [
    "# Ćwiczenie 6\n",
    "\n",
    "n = int(input(\"Wprowadz liczbe: \"))\n",
    "suma = 1\n",
    "\n",
    "for i in range(n):\n",
    "    suma *= i+1\n",
    "    \n",
    "print(suma)"
   ]
  }
 ],
 "metadata": {
  "kernelspec": {
   "display_name": "Python 3",
   "language": "python",
   "name": "python3"
  },
  "language_info": {
   "codemirror_mode": {
    "name": "ipython",
    "version": 3
   },
   "file_extension": ".py",
   "mimetype": "text/x-python",
   "name": "python",
   "nbconvert_exporter": "python",
   "pygments_lexer": "ipython3",
   "version": "3.8.0"
  }
 },
 "nbformat": 4,
 "nbformat_minor": 4
}
