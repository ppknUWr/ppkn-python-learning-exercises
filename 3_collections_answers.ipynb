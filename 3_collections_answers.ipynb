{
 "cells": [
  {
   "cell_type": "markdown",
   "metadata": {},
   "source": [
    "### Przykładowe rozwiązania problemów z Notebooka \"3_collections\""
   ]
  },
  {
   "cell_type": "code",
   "execution_count": null,
   "metadata": {},
   "outputs": [],
   "source": [
    "# Ćwiczenie 1\n",
    "\n",
    "lista = list(range(0, 100))\n",
    "dlugosc = int((len(lista))/2)\n",
    "print(lista[dlugosc])"
   ]
  },
  {
   "cell_type": "code",
   "execution_count": null,
   "metadata": {},
   "outputs": [],
   "source": [
    "# Ćwiczenie 2\n",
    "\n",
    "lista = list(range(0, 10))\n",
    "n = int(input(\"Wprowadz liczbe do wyszukiwania\"))\n",
    "\n",
    "if n in lista:\n",
    "    print(lista.index(n))\n",
    "else:\n",
    "    print(\"Nie ma takiej liczby w liscie\")"
   ]
  },
  {
   "cell_type": "code",
   "execution_count": null,
   "metadata": {},
   "outputs": [],
   "source": [
    "# Ćwiczenie 3\n",
    "\n",
    "n = int(input(\"Wprowadz ile liczb ma zawierac lista: \"))\n",
    "lista = list()\n",
    "lista_do_kwadratu = list()\n",
    "\n",
    "for i in range(0, n):\n",
    "    liczba_do_wprowadzenia = int(input(\"Wprowadz liczbe: \"))\n",
    "    lista.append(liczba_do_wprowadzenia)\n",
    "    \n",
    "for liczba in lista:\n",
    "    lista_do_kwadratu.append(liczba ** 2)\n",
    "    \n",
    "print(lista_do_kwadratu[0], lista_do_kwadratu[n-1])"
   ]
  },
  {
   "cell_type": "code",
   "execution_count": null,
   "metadata": {},
   "outputs": [],
   "source": [
    "# Ćwiczenie 4\n",
    "\n",
    "krotka = (1, 4, 10, 15)\n",
    "napis = \"\"\n",
    "\n",
    "for liczba in krotka:\n",
    "    napis += str(liczba)\n",
    "    \n",
    "print(napis)"
   ]
  },
  {
   "cell_type": "code",
   "execution_count": null,
   "metadata": {},
   "outputs": [],
   "source": [
    "# Ćwiczenie 5\n",
    "\n",
    "krotka = (100, 200, 856, 10)\n",
    "\n",
    "if len(krotka) % 2 == 0:\n",
    "    print(\"Parzysta\")\n",
    "else:\n",
    "    print(\"Nieparzysta\")"
   ]
  },
  {
   "cell_type": "code",
   "execution_count": null,
   "metadata": {},
   "outputs": [],
   "source": [
    "# Ćwiczenie 6\n",
    "\n",
    "napis = input(\"Wprowadz napis: \")\n",
    "krotka = tuple(napis)\n",
    "print(krotka)"
   ]
  },
  {
   "cell_type": "code",
   "execution_count": null,
   "metadata": {},
   "outputs": [],
   "source": [
    "# Ćwiczenie 7\n",
    "\n",
    "miasta = [\"Wroclaw\", \"Poznan\", \"Warszawa\"]\n",
    "dzielnice = [\"Nadodrze\", \"Centrum\", \"Mokotow\"]\n",
    "\n",
    "miasta_i_dzielnice = dict(zip(miasta, dzielnice))\n",
    "print(miasta_i_dzielnice)"
   ]
  },
  {
   "cell_type": "code",
   "execution_count": null,
   "metadata": {},
   "outputs": [],
   "source": [
    "# Ćwiczenie 8\n",
    "\n",
    "imie = input(\"Wprowadz imie: \")\n",
    "imiona = {\"imiona\": [\"Janek\", \"Marek\", \"Asia\", \"Aleksander\"]}\n",
    "\n",
    "if imie in imiona[\"imiona\"]:\n",
    "    print(\"Imie istnieje!\")\n",
    "else:\n",
    "    print(\"Imie nie istnieje!\")"
   ]
  },
  {
   "cell_type": "code",
   "execution_count": null,
   "metadata": {},
   "outputs": [],
   "source": [
    "# Ćwiczenie 9\n",
    "\n",
    "daty = {\"Poniedzialek\": 1, \"Wtorek\": 2, \"Sroda\": 3, \"Czwartek\": 4, \"Piatek\": 5, \"Sobota\": 6, \"Niedziela\": 7}\n",
    "\n",
    "\n",
    "for klucz, wartosc in daty.items():\n",
    "    print(f\"Numer dnia {klucz}, dzien: {wartosc}\")"
   ]
  }
 ],
 "metadata": {
  "kernelspec": {
   "display_name": "Python 3",
   "language": "python",
   "name": "python3"
  },
  "language_info": {
   "codemirror_mode": {
    "name": "ipython",
    "version": 3
   },
   "file_extension": ".py",
   "mimetype": "text/x-python",
   "name": "python",
   "nbconvert_exporter": "python",
   "pygments_lexer": "ipython3",
   "version": "3.8.0"
  }
 },
 "nbformat": 4,
 "nbformat_minor": 4
}
