{
 "cells": [
  {
   "cell_type": "markdown",
   "metadata": {},
   "source": [
    "### If i For\n",
    "\n",
    "Ćwiczenia, które mają sprawdzić, jak użytkownik radzi sobie z pętlami i instrukcjami warunkowymi"
   ]
  },
  {
   "cell_type": "markdown",
   "metadata": {},
   "source": [
    "### Ćwiczenie 1\n",
    "\n",
    "Stwórzy program, który wczytuje trzy zmienne liczbowe o dowolnej nazwie, a następnie sprawdza, czy \n",
    "z podanych zmiennych można stworzyć trójkąt"
   ]
  },
  {
   "cell_type": "markdown",
   "metadata": {},
   "source": [
    "### Ćwiczenie 2\n",
    "\n",
    "Stwórz program, który wczytuje jedną zmienną, która będzie reprezentacją roku w formie liczby całkowitej, a następnie sprawdza, czy dany rok jest przystępny, czy nieprzystępny. Jeżeli jest, to program powinnien wyświetlać \"Rok przystępny\", jeżeli nie to \"Rok nieprzystępny\""
   ]
  },
  {
   "cell_type": "markdown",
   "metadata": {},
   "source": [
    "### Ćwiczenie 3\n",
    "\n",
    "Problem FizzBuzz. Program ma wczytać jedną liczbę, którą wprowadza użytkownik. \n",
    "* Jeżeli liczba jest podzielna przez trzy, program powinien wyświetlić Fizz,\n",
    "* Jeżeli liczba jest podzielna przez pięć, program powinien wyświetlić Buzz,\n",
    "* Jeżeli liczba jest podzielna przez trzy i pięć, program powinien wyświetlić \"FizzBuzz\",\n",
    "* W przeciwnym wypadku program nie powinien wyświetlać nic"
   ]
  },
  {
   "cell_type": "markdown",
   "metadata": {},
   "source": [
    "### Ćwiczenie 4\n",
    "\n",
    "Stwórz program, który wczytuje jedną liczbę, a następnie za pomocą pętli **for** wyświetla wszystkie liczby od 1 do wczytanej przez użytkownika w konsoli."
   ]
  },
  {
   "cell_type": "markdown",
   "metadata": {},
   "source": [
    "### Ćwiczenie 5\n",
    "\n",
    "Stwórz program, który wczytuję liczbę, a następnie za pomocą pętli **for** sumuje wszystkie liczby od 0 do wczytanej przez użytkownika i wyświetla **SAM WYNIK**\n",
    "\n",
    "Przykład:\n",
    "\n",
    "Dla 3 wynikiem powinno być 6,\n",
    "Dla 5 wynikiem powinno być 15"
   ]
  },
  {
   "cell_type": "markdown",
   "metadata": {},
   "source": [
    "### Ćwiczenie 6\n",
    "\n",
    "Stwórz program, który wczytuje liczbę, a następnie za pomocą pętli **for** MNOŻY wszystkie liczby od 1 do wczytanej przez użytkownika i wyświetla **SAM WYNIK**\n",
    "\n",
    "Przykład:\n",
    "\n",
    "Dla 3 wynikiem powinno być 6, dla 5 wynikiem powinno być 120"
   ]
  },
  {
   "cell_type": "code",
   "execution_count": null,
   "metadata": {},
   "outputs": [],
   "source": []
  }
 ],
 "metadata": {
  "kernelspec": {
   "display_name": "Python 3",
   "language": "python",
   "name": "python3"
  },
  "language_info": {
   "codemirror_mode": {
    "name": "ipython",
    "version": 3
   },
   "file_extension": ".py",
   "mimetype": "text/x-python",
   "name": "python",
   "nbconvert_exporter": "python",
   "pygments_lexer": "ipython3",
   "version": "3.8.0"
  }
 },
 "nbformat": 4,
 "nbformat_minor": 4
}
