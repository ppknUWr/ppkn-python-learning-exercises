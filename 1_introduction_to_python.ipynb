{
 "cells": [
  {
   "cell_type": "markdown",
   "metadata": {},
   "source": [
    "### Wprowadzenie do Pythona\n",
    "\n",
    "Zadania, które mają sprawdzić podstawowe wprowadzenie do jęzkya Python i interakcje z użytkownikiem."
   ]
  },
  {
   "cell_type": "markdown",
   "metadata": {},
   "source": [
    "### Ćwiczenie 1\n",
    "\n",
    "Stwórz dwie zmienne o dowolnej nazwie. Do jednej przypisz dowolną liczbę, a do drugiej dowolny napis, a następnie: *Sprawdź ich typ*"
   ]
  },
  {
   "cell_type": "markdown",
   "metadata": {},
   "source": [
    "### Ćwiczenie 2\n",
    "\n",
    "Stwórz zmienną o dowolnej nazwie, a następnie *wpisz do niej dowolny napis z poziomu konsoli i wyświetl go w konsoli*"
   ]
  },
  {
   "cell_type": "markdown",
   "metadata": {},
   "source": [
    "### Ćwiczenie 3\n",
    "\n",
    "Stwórz zmienne, do której wprowadzisz z konsoli imię, oraz ROK urodzenia. *Następnie wyświetl imię wprowadzonej osoby i wiek, jaki będzie miała w 2030 roku.*"
   ]
  },
  {
   "cell_type": "markdown",
   "metadata": {},
   "source": [
    "### Ćwiczenie 4\n",
    "\n",
    "Stwórz dwie zmienne, do której wprowadzisz dwie liczby całkowite z poziomu konsoli. *Następnie oblicz i wyświetl wynik operacji dodawania, mnożenia, dzielenia, reszty z dzielenia i podniesienia do kwadratu zmiennej1 przez zmienną2.*"
   ]
  },
  {
   "cell_type": "markdown",
   "metadata": {},
   "source": [
    "### Przykładowe rozwiązania kolejnych problemów"
   ]
  },
  {
   "cell_type": "code",
   "execution_count": null,
   "metadata": {},
   "outputs": [],
   "source": []
  },
  {
   "cell_type": "code",
   "execution_count": null,
   "metadata": {},
   "outputs": [],
   "source": [
    "# Ćwiczenie 2\n",
    "\n",
    "zmienna_1 = input()\n",
    "\n",
    "print(zmienna_1)"
   ]
  },
  {
   "cell_type": "code",
   "execution_count": null,
   "metadata": {},
   "outputs": [],
   "source": [
    "# Ćwiczenie 3\n",
    "\n",
    "imie = input()\n",
    "rok_urodzenia = int(input())\n",
    "\n",
    "print(imie)\n",
    "print(2030 - rok_urodzenia)"
   ]
  },
  {
   "cell_type": "code",
   "execution_count": null,
   "metadata": {},
   "outputs": [],
   "source": [
    "# Ćwiczenie 4\n",
    "\n",
    "zmienna_1 = int(input())\n",
    "zmienna_2 = int(input())\n",
    "\n",
    "print(zmienna_1 + zmienna_2) # Dodawanie\n",
    "print(zmienna_1 * zmienna_2) # Mnożenie\n",
    "print(zmienna_1 % zmienna_2) # Reszta z dzielenia \n",
    "print(zmienna_1 ** zmienna_2) # Potęgowanie"
   ]
  }
 ],
 "metadata": {
  "kernelspec": {
   "display_name": "Python 3",
   "language": "python",
   "name": "python3"
  },
  "language_info": {
   "codemirror_mode": {
    "name": "ipython",
    "version": 3
   },
   "file_extension": ".py",
   "mimetype": "text/x-python",
   "name": "python",
   "nbconvert_exporter": "python",
   "pygments_lexer": "ipython3",
   "version": "3.8.0"
  }
 },
 "nbformat": 4,
 "nbformat_minor": 4
}
