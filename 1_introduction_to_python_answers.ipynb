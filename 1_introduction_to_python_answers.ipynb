{
 "cells": [
  {
   "cell_type": "markdown",
   "metadata": {},
   "source": [
    "### Przykładowe rozwiązania problemów z Notebooka \"1_introduction_to_python\""
   ]
  },
  {
   "cell_type": "code",
   "execution_count": null,
   "metadata": {},
   "outputs": [],
   "source": [
    "# Ćwiczenie 1\n",
    "\n",
    "zmienna_1 = 59\n",
    "zmienna_2 = \"dowolny napis\"\n",
    "\n",
    "print(type(zmienna_1))\n",
    "print(type(zmienna_2))"
   ]
  },
  {
   "cell_type": "code",
   "execution_count": null,
   "metadata": {},
   "outputs": [],
   "source": [
    "# Ćwiczenie 2\n",
    "\n",
    "zmienna_1 = input()\n",
    "\n",
    "print(zmienna_1)"
   ]
  },
  {
   "cell_type": "code",
   "execution_count": null,
   "metadata": {},
   "outputs": [],
   "source": [
    "# Ćwiczenie 3\n",
    "\n",
    "imie = input()\n",
    "rok_urodzenia = int(input())\n",
    "\n",
    "print(imie)\n",
    "print(2030 - rok_urodzenia)"
   ]
  },
  {
   "cell_type": "code",
   "execution_count": null,
   "metadata": {},
   "outputs": [],
   "source": [
    "# Ćwiczenie 4\n",
    "\n",
    "zmienna_1 = int(input())\n",
    "zmienna_2 = int(input())\n",
    "\n",
    "print(zmienna_1 + zmienna_2) # Dodawanie\n",
    "print(zmienna_1 * zmienna_2) # Mnożenie\n",
    "print(zmienna_1 % zmienna_2) # Reszta z dzielenia \n",
    "print(zmienna_1 ** zmienna_2) # Potęgowanie"
   ]
  },
  {
   "cell_type": "code",
   "execution_count": null,
   "metadata": {},
   "outputs": [],
   "source": [
    "# Ćwiczenie 5\n",
    "\n",
    "x = float(input(\"Wprowadz punkt x: \"))\n",
    "y = float(input(\"Wprowadz punkt y: \"))\n",
    "z = float(input(\"Wprowadz punkt z: \"))\n",
    "\n",
    "u = (x**2 + y**2 + z**2)**0.5\n",
    "\n",
    "print(f\"Dlugosc wektora to: {u}\")"
   ]
  }
 ],
 "metadata": {
  "kernelspec": {
   "display_name": "Python 3",
   "language": "python",
   "name": "python3"
  },
  "language_info": {
   "codemirror_mode": {
    "name": "ipython",
    "version": 3
   },
   "file_extension": ".py",
   "mimetype": "text/x-python",
   "name": "python",
   "nbconvert_exporter": "python",
   "pygments_lexer": "ipython3",
   "version": "3.8.0"
  }
 },
 "nbformat": 4,
 "nbformat_minor": 4
}
